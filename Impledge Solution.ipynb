{
 "cells": [
  {
   "cell_type": "code",
   "execution_count": 2,
   "id": "e661ce81",
   "metadata": {},
   "outputs": [
    {
     "name": "stdout",
     "output_type": "stream",
     "text": [
      "1. Longest Compound Word: ethylenediaminetetraacetates\n",
      "2. Second Longest Compound Word: electroencephalographically\n",
      "Time taken to process the input file: 0.33 seconds\n"
     ]
    }
   ],
   "source": [
    "import time\n",
    "\n",
    "def compounded(word, wordset):\n",
    "    if word in wordset:\n",
    "        return True\n",
    "    for i in range(1, len(word)):\n",
    "        prefix, suffix = word[:i], word[i:]\n",
    "        if prefix in wordset and compounded(suffix, wordset):\n",
    "            return True\n",
    "    return False\n",
    "\n",
    "def flcw(words):\n",
    "    wordset = set(words)\n",
    "    words.sort(key=lambda x: (-len(x), x)) \n",
    "\n",
    "    longest = None\n",
    "    sec_longest = None\n",
    "\n",
    "    for word in words:\n",
    "        wordset.remove(word)  \n",
    "        if compounded(word, wordset):\n",
    "            if not longest:\n",
    "                longest = word\n",
    "            elif not sec_longest:\n",
    "                sec_longest = word\n",
    "            else:\n",
    "                break\n",
    "\n",
    "    return longest, sec_longest\n",
    "\n",
    "def rwf_file(file_name):\n",
    "    words = []\n",
    "    with open(file_name, 'r') as file:\n",
    "        for line in file:\n",
    "            words.append(line.strip())\n",
    "    return words\n",
    "\n",
    "if __name__ == '__main__':\n",
    "    start_time = time.time()\n",
    "    \n",
    "    input_file = \"Input_02.txt\"  \n",
    "\n",
    "    words = rwf_file(input_file)\n",
    "\n",
    "    longest_compounded, sec_longest_compounded = flcw(words)\n",
    "\n",
    "    end_time = time.time()\n",
    "\n",
    "    print(f\"1. Longest Compound Word: {longest_compounded}\")\n",
    "    print(f\"2. Second Longest Compound Word: {sec_longest_compounded}\")\n",
    "    print(f\"Time taken to process the input file: {end_time - start_time:.2f} seconds\")\n"
   ]
  },
  {
   "cell_type": "code",
   "execution_count": null,
   "id": "d37cb95a",
   "metadata": {},
   "outputs": [],
   "source": []
  }
 ],
 "metadata": {
  "kernelspec": {
   "display_name": "Python 3 (ipykernel)",
   "language": "python",
   "name": "python3"
  },
  "language_info": {
   "codemirror_mode": {
    "name": "ipython",
    "version": 3
   },
   "file_extension": ".py",
   "mimetype": "text/x-python",
   "name": "python",
   "nbconvert_exporter": "python",
   "pygments_lexer": "ipython3",
   "version": "3.8.8"
  }
 },
 "nbformat": 4,
 "nbformat_minor": 5
}
